{
  "nbformat": 4,
  "nbformat_minor": 0,
  "metadata": {
    "colab": {
      "provenance": [],
      "authorship_tag": "ABX9TyOWylNcdWNT+LJNEfwSvD24",
      "include_colab_link": true
    },
    "kernelspec": {
      "name": "python3",
      "display_name": "Python 3"
    },
    "language_info": {
      "name": "python"
    }
  },
  "cells": [
    {
      "cell_type": "markdown",
      "metadata": {
        "id": "view-in-github",
        "colab_type": "text"
      },
      "source": [
        "<a href=\"https://colab.research.google.com/github/OGhub/AIFFEL_quest_cr/blob/master/Python/PythonProject01.ipynb\" target=\"_parent\"><img src=\"https://colab.research.google.com/assets/colab-badge.svg\" alt=\"Open In Colab\"/></a>"
      ]
    },
    {
      "cell_type": "markdown",
      "source": [
        "1. 사각형 넓이 구하는 프로그램"
      ],
      "metadata": {
        "id": "2eZeKloygn9Z"
      }
    },
    {
      "cell_type": "code",
      "execution_count": null,
      "metadata": {
        "colab": {
          "base_uri": "https://localhost:8080/"
        },
        "id": "f5kjZhgogECm",
        "outputId": "c22ac6e4-d9b1-4bcc-9816-8da09a3d18f6"
      },
      "outputs": [
        {
          "output_type": "stream",
          "name": "stdout",
          "text": [
            "넓이를 구하고 싶은 사각형의 숫자를 써주세요.\n",
            " 1.직사각형 2.평행사변형 3.사다리꼴 \n",
            " >>>3\n",
            "사다리꼴 함수는 trape()입니다.\n",
            "윗변, 아랫변, 높이를 입력하세요. 예시 : 윗변,아랫변,높이\n",
            " >>>3,5,2\n",
            "사다리꼴의 넓이는 : 8.0\n"
          ]
        }
      ],
      "source": [
        "class Square:\n",
        "    def __init__(self):\n",
        "        self.square = int(input('넓이를 구하고 싶은 사각형의 숫자를 써주세요.\\n 1.직사각형 2.평행사변형 3.사다리꼴 \\n >>>'))\n",
        "\n",
        "        if self.square == 1:\n",
        "            print('직사각형 함수는 rect()입니다.')\n",
        "            print(self.rect())\n",
        "\n",
        "        elif self.square == 2:\n",
        "            print('평행사변형 함수는 par()입니다.')\n",
        "            print(self.par())\n",
        "\n",
        "        elif self.square == 3:\n",
        "            print('사다리꼴 함수는 trape()입니다.')\n",
        "            print(self.trape())\n",
        "\n",
        "        else:\n",
        "            print('1, 2, 3 중에서 다시 입력해주세요')\n",
        "\n",
        "    def rect(self):\n",
        "        width, height = map(int, input('가로, 세로를 입력하세요. 예시 : 가로,세로\\n >>>').split(','))\n",
        "        area = width * height\n",
        "        result = '직사각형의 넓이는 : ' + str(area)\n",
        "        return result\n",
        "\n",
        "    def par(self):\n",
        "        base, height = map(int, input('밑변, 높이를 입력하세요. 예시 : 밑변,높이\\n >>>').split(','))\n",
        "        area = base * height\n",
        "        result = '평행사변형의 넓이는 : ' + str(area)\n",
        "        return result\n",
        "\n",
        "    def trape(self):\n",
        "        base1, base2, height = map(int, input('윗변, 아랫변, 높이를 입력하세요. 예시 : 윗변,아랫변,높이\\n >>>').split(','))\n",
        "        area = (base1 + base2) * height / 2\n",
        "        result = '사다리꼴의 넓이는 : ' + str(area)\n",
        "        return result\n",
        "\n",
        "a = Square()"
      ]
    },
    {
      "cell_type": "markdown",
      "source": [
        "2. 키오스크 프로그램"
      ],
      "metadata": {
        "id": "9Tl0e4DDhdO9"
      }
    },
    {
      "cell_type": "code",
      "source": [
        "class Kiosk:\n",
        "\n",
        "    # 초기화 함수. 기본적으로 menu랑 price를 설정해주었고 상품명 및 가격을 리스트로 생성, 총 가격을 0으로 셋팅해줌\n",
        "    def __init__(self):\n",
        "        self.menu = ['americano', 'latte', 'mocha', 'yuza_tea', 'green_tea', 'choco_latte']\n",
        "        self.price = [2000, 3000, 3000, 2500, 2500, 3000]\n",
        "        self.order_menu = []\n",
        "        self.order_price = []\n",
        "        self.price_sum = 0\n",
        "\n",
        "    # 사용자가 주문가능한 메뉴와 가격을 출력\n",
        "    def menu_print(self):\n",
        "        for i in range(len(self.menu)):\n",
        "            print(f\"{i + 1}. {self.menu[i]} : {self.price[i]}원\")\n",
        "\n",
        "    # 사용자로부터 주문을 받는 핵심적인 함수이며, 여기의 큰 로직에 따라 각 기능을 하는 함수들을 호출\n",
        "    def menu_select(self):\n",
        "        while True:\n",
        "            try:\n",
        "                n = int(input(\"음료 번호를 입력하세요 : \"))\n",
        "                if 1 <= n <= len(self.menu):\n",
        "                    self.add_order(n) # 사용자의 입력값을 인자로 받아 주문추가 함수를 호출\n",
        "                else:\n",
        "                    print(\"없는 메뉴입니다. 다시 주문해 주세요.\")\n",
        "            except ValueError:\n",
        "                print(\"숫자를 입력해 주세요.\")\n",
        "                continue\n",
        "\n",
        "            if not self.additional_order(): # 추가 주문 함수 호출\n",
        "                self.pay()  # 지불 함수 호출\n",
        "                self.print_receipt() # 최종 주문표 호출\n",
        "                return  # menu_select 함수 종료 = 프로그램 종료\n",
        "\n",
        "    # 주문을 리스트에 추가하고 합계를 계산하는 함수. 여기서 select_temperature함수를 호출\n",
        "    def add_order(self, n):\n",
        "        temp = self.select_temperature()\n",
        "        self.order_menu.append(f\"{temp} {self.menu[n-1]}\")\n",
        "        self.order_price.append(self.price[n-1])\n",
        "        self.price_sum += self.price[n-1]\n",
        "        print(f\"주문 음료: {temp} {self.menu[n-1]} : {self.price[n-1]}원\")\n",
        "\n",
        "    # 음료의 온도를 선택하는 함수. 입력에 따라 'HOT' 혹은 'ICE'를 add_order함수에 리턴하여 결과적으로 temp속성에 저장\n",
        "    def select_temperature(self):\n",
        "        while True:\n",
        "            try:\n",
        "                t = int(input(\"HOT 음료는 1을, ICE 음료는 2를 입력하세요 : \"))\n",
        "                if t == 1:\n",
        "                    return 'HOT'\n",
        "                elif t == 2:\n",
        "                    return 'ICE'\n",
        "                else:\n",
        "                    print(\"1과 2 중 하나를 입력하세요.\")\n",
        "            except ValueError:\n",
        "                print(\"숫자를 입력해 주세요.\")\n",
        "\n",
        "    # 음료의 온도까지 정했으면 menu_select함수에서 additional_order를 호출\n",
        "    # 추가주문 여부를 묻고 음료번호를 누르면, add_order함수 호출, 0을 누르면 False값을 리턴하고 menu_select에서 self.pay()로 진행함.\n",
        "    def additional_order(self):\n",
        "        while True:\n",
        "            try:\n",
        "                n = int(input(\"추가 주문은 음료 번호를, 지불은 0을 누르세요 : \"))\n",
        "                if n == 0:\n",
        "                    return False  # 추가 주문 종료\n",
        "                elif 1 <= n <= len(self.menu):\n",
        "                    self.add_order(n)\n",
        "                else:\n",
        "                    print(\"없는 메뉴입니다. 다시 주문해 주세요.\")\n",
        "            except ValueError:\n",
        "                print(\"숫자를 입력해 주세요.\")\n",
        "\n",
        "    # 지불 방법을 선택하게 하는 함수\n",
        "    def pay(self):\n",
        "        print(f\"\\n지불할 금액은 총 {self.price_sum}원입니다.\")\n",
        "        while True:\n",
        "            payment_method = input(\"지불 수단을 선택하세요. 현금은 '1', 카드는 '2'를 입력하세요: \").strip()\n",
        "            if payment_method == '1' or payment_method.lower() == 'cash':\n",
        "                print(\"직원을 호출하겠습니다.\")\n",
        "                break\n",
        "            elif payment_method == '2' or payment_method.lower() == 'card':\n",
        "                print(\"IC칩 방향에 맞게 카드를 꽂아주세요.\")\n",
        "                break\n",
        "            else:\n",
        "                print(\"다시 결제를 시도해 주세요.\")\n",
        "\n",
        "    # 최종 주문표를 출력하는 함수\n",
        "    def print_receipt(self):\n",
        "        print('⟝' + '-' * 30 + '⟞')\n",
        "        for _ in range(5):\n",
        "            print('|' + ' ' * 31 + '|')\n",
        "\n",
        "        for i in range(len(self.order_menu)):\n",
        "            print(f\"{self.order_menu[i]} : {self.order_price[i]}원\")\n",
        "\n",
        "        print(f\"합계 금액 : {self.price_sum}원\")\n",
        "\n",
        "        for _ in range(5):\n",
        "            print('|' + ' ' * 31 + '|')\n",
        "        print('⟝' + '-' * 30 + '⟞')\n",
        "        print(\"감사합니다. 즐거운 하루 되세요!\")\n",
        "\n",
        "# 프로그램 실행\n",
        "kiosk = Kiosk()\n",
        "kiosk.menu_print()  # 메뉴 출력\n",
        "kiosk.menu_select()  # 주문 받기"
      ],
      "metadata": {
        "colab": {
          "base_uri": "https://localhost:8080/"
        },
        "id": "u5VJyra9gkSv",
        "outputId": "ade87f71-b6df-4beb-8a04-b6af321fa685"
      },
      "execution_count": null,
      "outputs": [
        {
          "output_type": "stream",
          "name": "stdout",
          "text": [
            "1. americano : 2000원\n",
            "2. latte : 3000원\n",
            "3. mocha : 3000원\n",
            "4. yuza_tea : 2500원\n",
            "5. green_tea : 2500원\n",
            "6. choco_latte : 3000원\n",
            "음료 번호를 입력하세요 : 1\n",
            "HOT 음료는 1을, ICE 음료는 2를 입력하세요 : 2\n",
            "주문 음료: ICE americano : 2000원\n",
            "추가 주문은 음료 번호를, 지불은 0을 누르세요 : 5\n",
            "HOT 음료는 1을, ICE 음료는 2를 입력하세요 : 1\n",
            "주문 음료: HOT green_tea : 2500원\n",
            "추가 주문은 음료 번호를, 지불은 0을 누르세요 : 6\n",
            "HOT 음료는 1을, ICE 음료는 2를 입력하세요 : 1\n",
            "주문 음료: HOT choco_latte : 3000원\n",
            "추가 주문은 음료 번호를, 지불은 0을 누르세요 : 0\n",
            "\n",
            "지불할 금액은 총 7500원입니다.\n",
            "지불 수단을 선택하세요. 현금은 '1', 카드는 '2'를 입력하세요: 2\n",
            "IC칩 방향에 맞게 카드를 꽂아주세요.\n",
            "⟝------------------------------⟞\n",
            "|                               |\n",
            "|                               |\n",
            "|                               |\n",
            "|                               |\n",
            "|                               |\n",
            "ICE americano : 2000원\n",
            "HOT green_tea : 2500원\n",
            "HOT choco_latte : 3000원\n",
            "합계 금액 : 7500원\n",
            "|                               |\n",
            "|                               |\n",
            "|                               |\n",
            "|                               |\n",
            "|                               |\n",
            "⟝------------------------------⟞\n",
            "감사합니다. 즐거운 하루 되세요!\n"
          ]
        }
      ]
    },
    {
      "cell_type": "markdown",
      "source": [
        "권오근 히ㅗㅎ고\n",
        "- 진짜 너무 어렵다. ㅜㅜㅜㅜㅜㅁ나ㅣㅓ춛ㅁ;ㅣㅏ"
      ],
      "metadata": {
        "id": "vfiJmT5xshdd"
      }
    }
  ]
}